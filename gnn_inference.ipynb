{
 "cells": [
  {
   "cell_type": "markdown",
   "id": "53e11027",
   "metadata": {},
   "source": [
    "# GNN Inference Notebook\n",
    "Loads saved artifacts (model + config) and demonstrates batch toxicity prediction on comment graph."
   ]
  },
  {
   "cell_type": "markdown",
   "id": "5bab4a2a",
   "metadata": {},
   "source": [
    "## 1. Load Artifacts"
   ]
  },
  {
   "cell_type": "code",
   "execution_count": null,
   "id": "5c1a575d",
   "metadata": {},
   "outputs": [],
   "source": [
    "import json, torch\n",
    "from pathlib import Path\n",
    "from torch_geometric.nn import HeteroConv, SAGEConv, Linear\n",
    "\n",
    "art_dir=Path('artifacts')\n",
    "assert art_dir.exists(), 'artifacts/ missing. Train the model first.'\n",
    "config=json.load(open(art_dir/'config.json'))\n",
    "state=torch.load(art_dir/'model_best.pt', map_location='cpu')\n",
    "\n",
    "class HeteroGNN(torch.nn.Module):\n",
    "    def __init__(self, hidden, out_classes):\n",
    "        super().__init__()\n",
    "        self.conv1 = HeteroConv({\n",
    "            ('user','authored','comment'): SAGEConv((-1,-1), hidden),\n",
    "            ('comment','replies_to','comment'): SAGEConv((-1,-1), hidden),\n",
    "        }, aggr='mean')\n",
    "        self.lin = Linear(hidden, out_classes)\n",
    "    def forward(self, x_dict, edge_index_dict):\n",
    "        x_dict = self.conv1(x_dict, edge_index_dict)\n",
    "        return self.lin(x_dict['comment'].relu())\n",
    "\n",
    "model=HeteroGNN(config['gnn_hidden'], config['gnn_out_classes'])\n",
    "model.load_state_dict(state['model_state'])\n",
    "model.eval()\n",
    "print('Loaded model. Hidden:', config['gnn_hidden'])"
   ]
  },
  {
   "cell_type": "markdown",
   "id": "4e6ef31f",
   "metadata": {},
   "source": [
    "## 2. Reconstruct Minimal Graph for Inference"
   ]
  },
  {
   "cell_type": "code",
   "execution_count": null,
   "id": "d80fba30",
   "metadata": {},
   "outputs": [],
   "source": [
    "import pandas as pd, numpy as np\n",
    "from torch_geometric.data import HeteroData\n",
    "\n",
    "csv_path=config['data_csv']\n",
    "df=pd.read_csv(csv_path)\n",
    "# replicate label engineering if needed\n",
    "if 'ToxicBinary' not in df.columns:\n",
    "    if df['ToxicLabel'].dtype==object:\n",
    "        df['ToxicBinary']=df['ToxicLabel'].str.lower().str.startswith('toxic').astype(int)\n",
    "    else:\n",
    "        df['ToxicBinary']=(df['ToxicScore']>0.7).astype(int)\n",
    "\n",
    "# Create trivial embeddings placeholder (zeros) -> real pipeline would reload saved embeddings\n",
    "emb_dim= model.lin.in_channels if hasattr(model.lin,'in_channels') else  config['gnn_hidden']\n",
    "comment_ids = df[config['comment_id_col']].astype(str).tolist()\n",
    "comments_emb = np.zeros((len(comment_ids), emb_dim), dtype='float32')\n",
    "\n",
    "users = df[config['user_col']].astype(str).unique().tolist()\n",
    "user_feat = np.zeros((len(users),2), dtype='float32')\n",
    "\n",
    "cid_map={c:i for i,c in enumerate(comment_ids)}\n",
    "user_map={u:i for i,u in enumerate(users)}\n",
    "\n",
    "hetero_inf=HeteroData()\n",
    "hetero_inf['comment'].x = torch.tensor(comments_emb)\n",
    "hetero_inf['comment'].y = torch.tensor(df['ToxicBinary'].values)\n",
    "hetero_inf['user'].x = torch.tensor(user_feat)\n",
    "# authored edges\n",
    "src=[user_map[r[config['user_col']]] for _,r in df.iterrows()]\n",
    "dst=[cid_map[r[config['comment_id_col']]] for _,r in df.iterrows()]\n",
    "hetero_inf['user','authored','comment'].edge_index = torch.tensor([src,dst])\n",
    "# no reply edges in minimal reconstruction\n",
    "\n",
    "logits = model(hetero_inf.x_dict, hetero_inf.edge_index_dict)\n",
    "probs = torch.softmax(logits, dim=1)[:,1].detach().numpy()\n",
    "print('Pred shape:', probs.shape)"
   ]
  },
  {
   "cell_type": "markdown",
   "id": "db2be5f6",
   "metadata": {},
   "source": [
    "## 3. Attach Predictions & Export"
   ]
  },
  {
   "cell_type": "code",
   "execution_count": null,
   "id": "7077ae3a",
   "metadata": {},
   "outputs": [],
   "source": [
    "import pandas as pd, time\n",
    "pred_df = df[[config['comment_id_col'], config['user_col']]].copy()\n",
    "pred_df['PredToxicProb']=probs\n",
    "pred_df['PredToxicLabel']=(pred_df['PredToxicProb']>0.5).astype(int)\n",
    "stamp=time.strftime('%Y%m%d_%H%M%S')\n",
    "out_path=f'predictions_{stamp}.csv'\n",
    "pred_df.to_csv(out_path, index=False)\n",
    "print('Wrote', out_path)\n",
    "pred_df.head()"
   ]
  }
 ],
 "metadata": {
  "language_info": {
   "name": "python"
  }
 },
 "nbformat": 4,
 "nbformat_minor": 5
}
